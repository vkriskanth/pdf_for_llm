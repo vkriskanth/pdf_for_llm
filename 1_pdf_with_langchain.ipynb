{
 "cells": [
  {
   "cell_type": "code",
   "execution_count": 15,
   "id": "eadb5ed4-b44a-4ac9-b406-8a2d3bbc225a",
   "metadata": {},
   "outputs": [],
   "source": [
    "#Load PDF using pypdf into array of documents, where each document contains \n",
    "#the page content and metadata with page number.\n",
    "from langchain_community.document_loaders import PyPDFLoader\n",
    "\n",
    "loader = PyPDFLoader(\"ast_sci_data_tables_sample.pdf\")\n",
    "pages = loader.load_and_split()"
   ]
  },
  {
   "cell_type": "code",
   "execution_count": 16,
   "id": "7e773acc-f7db-4598-b498-39a71446148e",
   "metadata": {},
   "outputs": [
    {
     "data": {
      "text/plain": [
       "Document(page_content='Tutoring to Enhance Science Skills\\nTutoring Two:  Learning to Make Data Tables..............................................................................................\\nSample Data for Data Tables��������������������������NATIONAL PARTNERSHIP FOR QUALITY AFTERSCHOOL LEARNING\\nwww.sedl.org/afterschool/toolkits\\nUse these data to create data tables following the Guidelines for Making a Data Table and \\nChecklist for a Data Table.\\nExample 1: Pet Survey (GR 2–3)\\nMs. Hubert’s afterschool students took a survey of the 600 students at Morales Elementary \\nSchool. Students were asked to select their favorite pet from a list of eight animals. Here \\nare the results. \\nLizard 25, Dog 250, Cat 115, Bird 50, Guinea pig 30, Hamster 45, Fish 75, \\nFerret 10 \\nExample 2: Electromagnets—Increasing Coils (GR 3–5)\\nThe following data were collected using an electromagnet with a 1.5 volt battery, a switch, \\na piece of #20 insulated wire, and a nail. Three trials were run. Safety precautions in \\nrepeating this experiment include using safety goggles or safety spectacles and avoiding \\nshort circuits.  \\n  Number of Coils         Number of Paperclips\\n 5 3, 5, 4\\n 10        7, 8, 6\\n 15  11, 10, 12\\n 20  15, 13, 14\\n    \\nExample 3: pH of Substances (GR 5–10)\\nThe following are pH values of common household substances taken by three different \\nteams using pH probes. Safety precautions in repeating this experiment include hooded \\nventilation, chemical-splash safety goggles, gloves, and apron. Do not use bleach, \\nammonia, or strong acids with children.\\nLemon juice 2.4, 2.0, 2.2; Baking soda (1 Tbsp) in Water (1 cup) 8.4, 8.3, 8.7; \\nOrange juice 3.5, 4.0, 3.4; Battery acid 1.0, 0.7, 0.5; Apples 3.0, 3.2, 3.5; \\nTomatoes 4.5, 4.2, 4.0; Bottled water 6.7, 7.0, 7.2; Milk of magnesia 10.5, 10.3, \\n10.6; Liquid hand soap 9.0, 10.0, 9.5; Vinegar 2.2, 2.9, 3.0; Household bleach \\n12.5, 12.5, 12.7; Milk 6.6, 6.5, 6.4; Household ammonia 11.5, 11.0, 11.5;\\nLye 13.0, 13.5, 13.4; and Sodium hydroxide 14.0, 14.0, 13.9; Anti-freeze 10.1, \\n10.9, 9.7; Windex 9.9. 10.2, 9.5; Liquid detergent 10.5, 10.0, 10.3; and \\nCola 3.0, 2.5, 3.2\\nTeaching tip:  The pH scale is from 0 to 14. Have students make two data tables, one \\nwith the data as given and one with the pH scale 0 to 14 with the substances’ average \\npH in rank order on the scale (Battery acid at the lower end and Sodium hydroxide at \\nthe upper end) or create a pH graphic organizer .\\n1', metadata={'source': 'ast_sci_data_tables_sample.pdf', 'page': 0})"
      ]
     },
     "execution_count": 16,
     "metadata": {},
     "output_type": "execute_result"
    }
   ],
   "source": [
    "pages[0]"
   ]
  },
  {
   "cell_type": "code",
   "execution_count": 17,
   "id": "74110c27-7bf8-4733-a36b-e963eac67ef2",
   "metadata": {},
   "outputs": [
    {
     "name": "stdin",
     "output_type": "stream",
     "text": [
      "OpenAI API Key: ········\n"
     ]
    }
   ],
   "source": [
    "import os\n",
    "import getpass\n",
    "\n",
    "os.environ['OPENAI_API_KEY'] = getpass.getpass('OpenAI API Key:')"
   ]
  },
  {
   "cell_type": "code",
   "execution_count": 18,
   "id": "bfc838a5-5383-4e12-a0a5-80990eac7247",
   "metadata": {},
   "outputs": [
    {
     "name": "stdout",
     "output_type": "stream",
     "text": [
      "0: Tutoring to Enhance Science Skills\n",
      "Tutoring Two:  Learning to Make Data Tables..............................................................................................\n",
      "Sample Data for Data Tables��������������������������NATIONAL PARTNERSHIP FOR QUALITY AFTERSCHOOL LEARNING\n",
      "www.sedl.org/afterschool/toolkits\n",
      "Use these data to create data tables following the Guidelines for Making a Data Table and \n",
      "Checklist for a Data Table.\n",
      "Example 1: Pet Survey (GR 2–3)\n",
      "Ms. Hubert’s afterschool students took a survey of the 600 students at Morales Elementary \n",
      "School. Students were asked to select their favorite pet from a list of eight animals. Here \n",
      "are the results. \n",
      "Lizard 25, Dog 250, Cat 115, Bird 50, Guinea pig 30, Hamster 45, Fish 75, \n",
      "Ferret 10 \n",
      "Example 2: Electromagnets—Increasing Coils (GR 3–5)\n",
      "The following data were collected using an electromagnet with a 1.5 volt battery, a switch, \n",
      "a piece of #20 insulated wire, and a nail. Three trials were run. Safety precautions in \n",
      "repeating this\n",
      "1: © 2006 WGBH Educational Foundation. All rights reserved.Example 4: Automobile Land Speed Records (GR 5-10)\n",
      "In the first recorded automobile race in 1898, Count Gaston de Chasseloup-Laubat of \n",
      "Paris, France, drove 1 kilometer in 57 seconds for an average speed of 39.2 miles per hour \n",
      "(mph) or 63.1 kilometers per hour (kph). In 1904, Henry Ford drove his Ford Arrow across \n",
      "frozen Lake St. Clair, MI, at an average speed of 91.4 mph. Now, the North American \n",
      "Eagle is trying to break a land speed record of 800 mph. The Federation International de \n",
      "L’Automobile (FIA), the world’s governing body for motor sport and land speed records, \n",
      "recorded the following land speed records. (Retrieved on February 5, 2006, from \n",
      "http://www.landspeed.com/lsrinfo.asp .)\n",
      "Speed (mph)\n",
      "407.447\n",
      "413.199\n",
      "434.22\n",
      "468.719\n",
      "526.277\n",
      "536.712\n",
      "555.127\n",
      "576.553\n",
      "600.601\n",
      "622.407\n",
      "633.468\n",
      "763.035Driver\n",
      "Craig Breedlove\n",
      "Tom Green \n",
      "Art Arfons\n",
      "Craig Breedlove\n",
      "Craig Breedlove\n",
      "Art Arfons\n",
      "Craig Breedlove\n",
      "Art Arfons\n",
      "Craig Breedlove\n",
      "Gary \n"
     ]
    }
   ],
   "source": [
    "from langchain_community.vectorstores import FAISS\n",
    "from langchain_openai import OpenAIEmbeddings\n",
    "\n",
    "faiss_index = FAISS.from_documents(pages, OpenAIEmbeddings())\n",
    "docs = faiss_index.similarity_search(\"What can you tell me about Craig\", k=2)\n",
    "for doc in docs:\n",
    "    print(str(doc.metadata[\"page\"]) + \":\", doc.page_content[:1000])"
   ]
  },
  {
   "cell_type": "code",
   "execution_count": null,
   "id": "135cf96f-7ec6-49f3-a143-11217a6409eb",
   "metadata": {},
   "outputs": [],
   "source": [
    "#observation: the above is not working accurately with tables\n"
   ]
  },
  {
   "cell_type": "code",
   "execution_count": null,
   "id": "c23c80c3-1487-46b6-bae4-8d2b5a2f1a7f",
   "metadata": {},
   "outputs": [
    {
     "name": "stdout",
     "output_type": "stream",
     "text": [
      "Collecting rapidocr-onnxruntime\n",
      "  Downloading rapidocr_onnxruntime-1.3.22-py3-none-any.whl.metadata (1.3 kB)\n",
      "Collecting pyclipper>=1.2.0 (from rapidocr-onnxruntime)\n",
      "  Downloading pyclipper-1.3.0.post5-cp39-cp39-macosx_10_9_x86_64.whl.metadata (9.0 kB)\n",
      "Collecting opencv-python>=4.5.1.48 (from rapidocr-onnxruntime)\n",
      "  Downloading opencv-python-4.10.0.82.tar.gz (95.1 MB)\n",
      "\u001b[2K     \u001b[90m━━━━━━━━━━━━━━━━━━━━━━━━━━━━━━━━━━━━━━━━\u001b[0m \u001b[32m95.1/95.1 MB\u001b[0m \u001b[31m23.2 MB/s\u001b[0m eta \u001b[36m0:00:00\u001b[0m00:01\u001b[0m00:01\u001b[0m\n",
      "\u001b[?25h  Installing build dependencies ... \u001b[?25ldone\n",
      "\u001b[?25h  Getting requirements to build wheel ... \u001b[?25ldone\n",
      "\u001b[?25h  Preparing metadata (pyproject.toml) ... \u001b[?25ldone\n",
      "\u001b[?25hRequirement already satisfied: numpy>=1.19.5 in /Users/kanthkr/opt/anaconda3/envs/pdf_for_llm/lib/python3.9/site-packages (from rapidocr-onnxruntime) (1.26.4)\n",
      "Requirement already satisfied: six>=1.15.0 in /Users/kanthkr/opt/anaconda3/envs/pdf_for_llm/lib/python3.9/site-packages (from rapidocr-onnxruntime) (1.16.0)\n",
      "Collecting Shapely>=1.7.1 (from rapidocr-onnxruntime)\n",
      "  Using cached shapely-2.0.4-cp39-cp39-macosx_10_9_x86_64.whl.metadata (7.0 kB)\n",
      "Requirement already satisfied: PyYAML in /Users/kanthkr/opt/anaconda3/envs/pdf_for_llm/lib/python3.9/site-packages (from rapidocr-onnxruntime) (6.0.1)\n",
      "Collecting Pillow (from rapidocr-onnxruntime)\n",
      "  Using cached pillow-10.3.0-cp39-cp39-macosx_10_10_x86_64.whl.metadata (9.2 kB)\n",
      "Collecting onnxruntime>=1.7.0 (from rapidocr-onnxruntime)\n",
      "  Using cached onnxruntime-1.16.3-cp39-cp39-macosx_10_15_x86_64.whl.metadata (4.3 kB)\n",
      "Collecting coloredlogs (from onnxruntime>=1.7.0->rapidocr-onnxruntime)\n",
      "  Using cached coloredlogs-15.0.1-py2.py3-none-any.whl.metadata (12 kB)\n",
      "Collecting flatbuffers (from onnxruntime>=1.7.0->rapidocr-onnxruntime)\n",
      "  Using cached flatbuffers-24.3.25-py2.py3-none-any.whl.metadata (850 bytes)\n",
      "Requirement already satisfied: packaging in /Users/kanthkr/opt/anaconda3/envs/pdf_for_llm/lib/python3.9/site-packages (from onnxruntime>=1.7.0->rapidocr-onnxruntime) (23.2)\n",
      "Collecting protobuf (from onnxruntime>=1.7.0->rapidocr-onnxruntime)\n",
      "  Downloading protobuf-5.27.1-cp38-abi3-macosx_10_9_universal2.whl.metadata (592 bytes)\n",
      "Collecting sympy (from onnxruntime>=1.7.0->rapidocr-onnxruntime)\n",
      "  Using cached sympy-1.12.1-py3-none-any.whl.metadata (12 kB)\n",
      "Collecting humanfriendly>=9.1 (from coloredlogs->onnxruntime>=1.7.0->rapidocr-onnxruntime)\n",
      "  Using cached humanfriendly-10.0-py2.py3-none-any.whl.metadata (9.2 kB)\n",
      "Collecting mpmath<1.4.0,>=1.1.0 (from sympy->onnxruntime>=1.7.0->rapidocr-onnxruntime)\n",
      "  Using cached mpmath-1.3.0-py3-none-any.whl.metadata (8.6 kB)\n",
      "Downloading rapidocr_onnxruntime-1.3.22-py3-none-any.whl (14.9 MB)\n",
      "\u001b[2K   \u001b[90m━━━━━━━━━━━━━━━━━━━━━━━━━━━━━━━━━━━━━━━━\u001b[0m \u001b[32m14.9/14.9 MB\u001b[0m \u001b[31m31.7 MB/s\u001b[0m eta \u001b[36m0:00:00\u001b[0m00:01\u001b[0m00:01\u001b[0m\n",
      "\u001b[?25hUsing cached onnxruntime-1.16.3-cp39-cp39-macosx_10_15_x86_64.whl (7.1 MB)\n",
      "Downloading pyclipper-1.3.0.post5-cp39-cp39-macosx_10_9_x86_64.whl (146 kB)\n",
      "\u001b[2K   \u001b[90m━━━━━━━━━━━━━━━━━━━━━━━━━━━━━━━━━━━━━━━━\u001b[0m \u001b[32m146.3/146.3 kB\u001b[0m \u001b[31m7.7 MB/s\u001b[0m eta \u001b[36m0:00:00\u001b[0m\n",
      "\u001b[?25hUsing cached shapely-2.0.4-cp39-cp39-macosx_10_9_x86_64.whl (1.4 MB)\n",
      "Using cached pillow-10.3.0-cp39-cp39-macosx_10_10_x86_64.whl (3.5 MB)\n",
      "Using cached coloredlogs-15.0.1-py2.py3-none-any.whl (46 kB)\n",
      "Using cached flatbuffers-24.3.25-py2.py3-none-any.whl (26 kB)\n",
      "Downloading protobuf-5.27.1-cp38-abi3-macosx_10_9_universal2.whl (412 kB)\n",
      "\u001b[2K   \u001b[90m━━━━━━━━━━━━━━━━━━━━━━━━━━━━━━━━━━━━━━━━\u001b[0m \u001b[32m412.3/412.3 kB\u001b[0m \u001b[31m20.3 MB/s\u001b[0m eta \u001b[36m0:00:00\u001b[0m\n",
      "\u001b[?25hUsing cached sympy-1.12.1-py3-none-any.whl (5.7 MB)\n",
      "Using cached humanfriendly-10.0-py2.py3-none-any.whl (86 kB)\n",
      "Using cached mpmath-1.3.0-py3-none-any.whl (536 kB)\n",
      "Building wheels for collected packages: opencv-python\n",
      "  Building wheel for opencv-python (pyproject.toml) ... \u001b[?25l-"
     ]
    }
   ],
   "source": [
    "# extracting images\n",
    "#!pip install rapidocr-onnxruntime"
   ]
  },
  {
   "cell_type": "code",
   "execution_count": null,
   "id": "2ea1735b-a4e7-4b08-ac65-8e6b64b52d99",
   "metadata": {},
   "outputs": [],
   "source": [
    "loader = PyPDFLoader(\"ast_sci_data_tables_sample.pdf\", extract_images=True)\n",
    "pages = loader.load()\n",
    "pages[4].page_content"
   ]
  }
 ],
 "metadata": {
  "kernelspec": {
   "display_name": "Python 3 (ipykernel)",
   "language": "python",
   "name": "python3"
  },
  "language_info": {
   "codemirror_mode": {
    "name": "ipython",
    "version": 3
   },
   "file_extension": ".py",
   "mimetype": "text/x-python",
   "name": "python",
   "nbconvert_exporter": "python",
   "pygments_lexer": "ipython3",
   "version": "3.9.19"
  }
 },
 "nbformat": 4,
 "nbformat_minor": 5
}
